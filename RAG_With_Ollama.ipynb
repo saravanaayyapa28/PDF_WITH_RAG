{
 "cells": [
  {
   "cell_type": "code",
   "execution_count": 2,
   "metadata": {},
   "outputs": [
    {
     "name": "stdout",
     "output_type": "stream",
     "text": [
      "Requirement already satisfied: langchain-community==0.2.4 in c:\\users\\cyntexia\\appdata\\roaming\\python\\python311\\site-packages (0.2.4)\n",
      "Requirement already satisfied: langchain==0.2.3 in c:\\users\\cyntexia\\appdata\\roaming\\python\\python311\\site-packages (0.2.3)\n",
      "Requirement already satisfied: faiss-cpu==1.8.0 in c:\\users\\cyntexia\\conda\\lib\\site-packages (1.8.0)\n",
      "Requirement already satisfied: unstructured==0.14.5 in c:\\users\\cyntexia\\appdata\\roaming\\python\\python311\\site-packages (0.14.5)\n",
      "Requirement already satisfied: transformers==4.41.2 in c:\\users\\cyntexia\\appdata\\roaming\\python\\python311\\site-packages (4.41.2)\n",
      "Requirement already satisfied: sentence-transformers==3.0.1 in c:\\users\\cyntexia\\conda\\lib\\site-packages (3.0.1)\n",
      "Requirement already satisfied: PyYAML>=5.3 in c:\\users\\cyntexia\\conda\\lib\\site-packages (from langchain-community==0.2.4) (6.0.1)\n",
      "Requirement already satisfied: SQLAlchemy<3,>=1.4 in c:\\users\\cyntexia\\conda\\lib\\site-packages (from langchain-community==0.2.4) (2.0.25)\n",
      "Requirement already satisfied: aiohttp<4.0.0,>=3.8.3 in c:\\users\\cyntexia\\conda\\lib\\site-packages (from langchain-community==0.2.4) (3.9.3)\n",
      "Requirement already satisfied: dataclasses-json<0.7,>=0.5.7 in c:\\users\\cyntexia\\appdata\\roaming\\python\\python311\\site-packages (from langchain-community==0.2.4) (0.6.7)\n",
      "Requirement already satisfied: langchain-core<0.3.0,>=0.2.0 in c:\\users\\cyntexia\\appdata\\roaming\\python\\python311\\site-packages (from langchain-community==0.2.4) (0.2.5)\n",
      "Requirement already satisfied: langsmith<0.2.0,>=0.1.0 in c:\\users\\cyntexia\\appdata\\roaming\\python\\python311\\site-packages (from langchain-community==0.2.4) (0.1.75)\n",
      "Requirement already satisfied: numpy<2,>=1 in c:\\users\\cyntexia\\conda\\lib\\site-packages (from langchain-community==0.2.4) (1.26.4)\n",
      "Requirement already satisfied: requests<3,>=2 in c:\\users\\cyntexia\\conda\\lib\\site-packages (from langchain-community==0.2.4) (2.31.0)\n",
      "Requirement already satisfied: tenacity<9.0.0,>=8.1.0 in c:\\users\\cyntexia\\appdata\\roaming\\python\\python311\\site-packages (from langchain-community==0.2.4) (8.3.0)\n",
      "Requirement already satisfied: langchain-text-splitters<0.3.0,>=0.2.0 in c:\\users\\cyntexia\\appdata\\roaming\\python\\python311\\site-packages (from langchain==0.2.3) (0.2.1)\n",
      "Requirement already satisfied: pydantic<3,>=1 in c:\\users\\cyntexia\\conda\\lib\\site-packages (from langchain==0.2.3) (1.10.12)\n",
      "Requirement already satisfied: chardet in c:\\users\\cyntexia\\conda\\lib\\site-packages (from unstructured==0.14.5) (4.0.0)\n",
      "Requirement already satisfied: filetype in c:\\users\\cyntexia\\appdata\\roaming\\python\\python311\\site-packages (from unstructured==0.14.5) (1.2.0)\n",
      "Requirement already satisfied: python-magic in c:\\users\\cyntexia\\appdata\\roaming\\python\\python311\\site-packages (from unstructured==0.14.5) (0.4.27)\n",
      "Requirement already satisfied: lxml in c:\\users\\cyntexia\\conda\\lib\\site-packages (from unstructured==0.14.5) (4.9.3)\n",
      "Requirement already satisfied: nltk in c:\\users\\cyntexia\\conda\\lib\\site-packages (from unstructured==0.14.5) (3.8.1)\n",
      "Requirement already satisfied: tabulate in c:\\users\\cyntexia\\conda\\lib\\site-packages (from unstructured==0.14.5) (0.9.0)\n",
      "Requirement already satisfied: beautifulsoup4 in c:\\users\\cyntexia\\conda\\lib\\site-packages (from unstructured==0.14.5) (4.12.2)\n",
      "Requirement already satisfied: emoji in c:\\users\\cyntexia\\appdata\\roaming\\python\\python311\\site-packages (from unstructured==0.14.5) (2.12.1)\n",
      "Requirement already satisfied: python-iso639 in c:\\users\\cyntexia\\appdata\\roaming\\python\\python311\\site-packages (from unstructured==0.14.5) (2024.4.27)\n",
      "Requirement already satisfied: langdetect in c:\\users\\cyntexia\\appdata\\roaming\\python\\python311\\site-packages (from unstructured==0.14.5) (1.0.9)\n",
      "Requirement already satisfied: rapidfuzz in c:\\users\\cyntexia\\appdata\\roaming\\python\\python311\\site-packages (from unstructured==0.14.5) (3.9.3)\n",
      "Requirement already satisfied: backoff in c:\\users\\cyntexia\\appdata\\roaming\\python\\python311\\site-packages (from unstructured==0.14.5) (2.2.1)\n",
      "Requirement already satisfied: typing-extensions in c:\\users\\cyntexia\\conda\\lib\\site-packages (from unstructured==0.14.5) (4.9.0)\n",
      "Requirement already satisfied: unstructured-client in c:\\users\\cyntexia\\appdata\\roaming\\python\\python311\\site-packages (from unstructured==0.14.5) (0.23.3)\n",
      "Requirement already satisfied: wrapt in c:\\users\\cyntexia\\conda\\lib\\site-packages (from unstructured==0.14.5) (1.14.1)\n",
      "Requirement already satisfied: filelock in c:\\users\\cyntexia\\conda\\lib\\site-packages (from transformers==4.41.2) (3.13.1)\n",
      "Requirement already satisfied: huggingface-hub<1.0,>=0.23.0 in c:\\users\\cyntexia\\appdata\\roaming\\python\\python311\\site-packages (from transformers==4.41.2) (0.23.3)\n",
      "Requirement already satisfied: packaging>=20.0 in c:\\users\\cyntexia\\appdata\\roaming\\python\\python311\\site-packages (from transformers==4.41.2) (23.2)\n",
      "Requirement already satisfied: regex!=2019.12.17 in c:\\users\\cyntexia\\conda\\lib\\site-packages (from transformers==4.41.2) (2023.10.3)\n",
      "Requirement already satisfied: tokenizers<0.20,>=0.19 in c:\\users\\cyntexia\\appdata\\roaming\\python\\python311\\site-packages (from transformers==4.41.2) (0.19.1)\n",
      "Requirement already satisfied: safetensors>=0.4.1 in c:\\users\\cyntexia\\appdata\\roaming\\python\\python311\\site-packages (from transformers==4.41.2) (0.4.3)\n",
      "Requirement already satisfied: tqdm>=4.27 in c:\\users\\cyntexia\\conda\\lib\\site-packages (from transformers==4.41.2) (4.65.0)\n",
      "Requirement already satisfied: torch>=1.11.0 in c:\\users\\cyntexia\\appdata\\roaming\\python\\python311\\site-packages (from sentence-transformers==3.0.1) (2.0.1)\n",
      "Requirement already satisfied: scikit-learn in c:\\users\\cyntexia\\conda\\lib\\site-packages (from sentence-transformers==3.0.1) (1.2.2)\n",
      "Requirement already satisfied: scipy in c:\\users\\cyntexia\\conda\\lib\\site-packages (from sentence-transformers==3.0.1) (1.11.4)\n",
      "Requirement already satisfied: Pillow in c:\\users\\cyntexia\\appdata\\roaming\\python\\python311\\site-packages (from sentence-transformers==3.0.1) (10.3.0)\n",
      "Requirement already satisfied: onnx in c:\\users\\cyntexia\\appdata\\roaming\\python\\python311\\site-packages (from unstructured[pdf]==0.14.5) (1.16.1)\n",
      "Requirement already satisfied: pdf2image in c:\\users\\cyntexia\\appdata\\roaming\\python\\python311\\site-packages (from unstructured[pdf]==0.14.5) (1.17.0)\n",
      "Requirement already satisfied: pdfminer.six in c:\\users\\cyntexia\\appdata\\roaming\\python\\python311\\site-packages (from unstructured[pdf]==0.14.5) (20231228)\n",
      "Requirement already satisfied: pikepdf in c:\\users\\cyntexia\\appdata\\roaming\\python\\python311\\site-packages (from unstructured[pdf]==0.14.5) (9.0.0)\n",
      "Requirement already satisfied: pillow-heif in c:\\users\\cyntexia\\appdata\\roaming\\python\\python311\\site-packages (from unstructured[pdf]==0.14.5) (0.16.0)\n",
      "Requirement already satisfied: pypdf in c:\\users\\cyntexia\\appdata\\roaming\\python\\python311\\site-packages (from unstructured[pdf]==0.14.5) (4.2.0)\n",
      "Requirement already satisfied: pytesseract in c:\\users\\cyntexia\\appdata\\roaming\\python\\python311\\site-packages (from unstructured[pdf]==0.14.5) (0.3.10)\n",
      "Requirement already satisfied: google-cloud-vision in c:\\users\\cyntexia\\appdata\\roaming\\python\\python311\\site-packages (from unstructured[pdf]==0.14.5) (3.7.2)\n",
      "Requirement already satisfied: effdet in c:\\users\\cyntexia\\appdata\\roaming\\python\\python311\\site-packages (from unstructured[pdf]==0.14.5) (0.4.1)\n",
      "Requirement already satisfied: unstructured-inference==0.7.33 in c:\\users\\cyntexia\\appdata\\roaming\\python\\python311\\site-packages (from unstructured[pdf]==0.14.5) (0.7.33)\n",
      "Requirement already satisfied: unstructured.pytesseract>=0.3.12 in c:\\users\\cyntexia\\appdata\\roaming\\python\\python311\\site-packages (from unstructured[pdf]==0.14.5) (0.3.12)\n",
      "Requirement already satisfied: layoutparser in c:\\users\\cyntexia\\appdata\\roaming\\python\\python311\\site-packages (from unstructured-inference==0.7.33->unstructured[pdf]==0.14.5) (0.3.4)\n",
      "Requirement already satisfied: python-multipart in c:\\users\\cyntexia\\appdata\\roaming\\python\\python311\\site-packages (from unstructured-inference==0.7.33->unstructured[pdf]==0.14.5) (0.0.9)\n",
      "Requirement already satisfied: opencv-python!=4.7.0.68 in c:\\users\\cyntexia\\appdata\\roaming\\python\\python311\\site-packages (from unstructured-inference==0.7.33->unstructured[pdf]==0.14.5) (4.10.0.82)\n",
      "Requirement already satisfied: onnxruntime>=1.17.0 in c:\\users\\cyntexia\\appdata\\roaming\\python\\python311\\site-packages (from unstructured-inference==0.7.33->unstructured[pdf]==0.14.5) (1.18.0)\n",
      "Requirement already satisfied: matplotlib in c:\\users\\cyntexia\\conda\\lib\\site-packages (from unstructured-inference==0.7.33->unstructured[pdf]==0.14.5) (3.8.0)\n",
      "Requirement already satisfied: timm in c:\\users\\cyntexia\\appdata\\roaming\\python\\python311\\site-packages (from unstructured-inference==0.7.33->unstructured[pdf]==0.14.5) (1.0.3)\n",
      "Requirement already satisfied: aiosignal>=1.1.2 in c:\\users\\cyntexia\\conda\\lib\\site-packages (from aiohttp<4.0.0,>=3.8.3->langchain-community==0.2.4) (1.2.0)\n",
      "Requirement already satisfied: attrs>=17.3.0 in c:\\users\\cyntexia\\conda\\lib\\site-packages (from aiohttp<4.0.0,>=3.8.3->langchain-community==0.2.4) (23.1.0)\n",
      "Requirement already satisfied: frozenlist>=1.1.1 in c:\\users\\cyntexia\\conda\\lib\\site-packages (from aiohttp<4.0.0,>=3.8.3->langchain-community==0.2.4) (1.4.0)\n",
      "Requirement already satisfied: multidict<7.0,>=4.5 in c:\\users\\cyntexia\\conda\\lib\\site-packages (from aiohttp<4.0.0,>=3.8.3->langchain-community==0.2.4) (6.0.4)\n",
      "Requirement already satisfied: yarl<2.0,>=1.0 in c:\\users\\cyntexia\\conda\\lib\\site-packages (from aiohttp<4.0.0,>=3.8.3->langchain-community==0.2.4) (1.9.3)\n",
      "Requirement already satisfied: marshmallow<4.0.0,>=3.18.0 in c:\\users\\cyntexia\\appdata\\roaming\\python\\python311\\site-packages (from dataclasses-json<0.7,>=0.5.7->langchain-community==0.2.4) (3.21.3)\n",
      "Requirement already satisfied: typing-inspect<1,>=0.4.0 in c:\\users\\cyntexia\\appdata\\roaming\\python\\python311\\site-packages (from dataclasses-json<0.7,>=0.5.7->langchain-community==0.2.4) (0.9.0)\n",
      "Requirement already satisfied: fsspec>=2023.5.0 in c:\\users\\cyntexia\\conda\\lib\\site-packages (from huggingface-hub<1.0,>=0.23.0->transformers==4.41.2) (2023.10.0)\n",
      "Requirement already satisfied: jsonpatch<2.0,>=1.33 in c:\\users\\cyntexia\\appdata\\roaming\\python\\python311\\site-packages (from langchain-core<0.3.0,>=0.2.0->langchain-community==0.2.4) (1.33)\n",
      "Requirement already satisfied: orjson<4.0.0,>=3.9.14 in c:\\users\\cyntexia\\appdata\\roaming\\python\\python311\\site-packages (from langsmith<0.2.0,>=0.1.0->langchain-community==0.2.4) (3.10.3)\n",
      "Requirement already satisfied: charset-normalizer<4,>=2 in c:\\users\\cyntexia\\appdata\\roaming\\python\\python311\\site-packages (from requests<3,>=2->langchain-community==0.2.4) (3.3.2)\n",
      "Requirement already satisfied: idna<4,>=2.5 in c:\\users\\cyntexia\\conda\\lib\\site-packages (from requests<3,>=2->langchain-community==0.2.4) (3.4)\n",
      "Requirement already satisfied: urllib3<3,>=1.21.1 in c:\\users\\cyntexia\\conda\\lib\\site-packages (from requests<3,>=2->langchain-community==0.2.4) (2.0.7)\n",
      "Requirement already satisfied: certifi>=2017.4.17 in c:\\users\\cyntexia\\conda\\lib\\site-packages (from requests<3,>=2->langchain-community==0.2.4) (2024.2.2)\n",
      "Requirement already satisfied: greenlet!=0.4.17 in c:\\users\\cyntexia\\conda\\lib\\site-packages (from SQLAlchemy<3,>=1.4->langchain-community==0.2.4) (3.0.1)\n",
      "Requirement already satisfied: sympy in c:\\users\\cyntexia\\conda\\lib\\site-packages (from torch>=1.11.0->sentence-transformers==3.0.1) (1.12)\n",
      "Requirement already satisfied: networkx in c:\\users\\cyntexia\\conda\\lib\\site-packages (from torch>=1.11.0->sentence-transformers==3.0.1) (3.1)\n",
      "Requirement already satisfied: jinja2 in c:\\users\\cyntexia\\conda\\lib\\site-packages (from torch>=1.11.0->sentence-transformers==3.0.1) (3.1.3)\n",
      "Requirement already satisfied: colorama in c:\\users\\cyntexia\\conda\\lib\\site-packages (from tqdm>=4.27->transformers==4.41.2) (0.4.6)\n",
      "Requirement already satisfied: soupsieve>1.2 in c:\\users\\cyntexia\\conda\\lib\\site-packages (from beautifulsoup4->unstructured==0.14.5) (2.5)\n",
      "Requirement already satisfied: torchvision in c:\\users\\cyntexia\\appdata\\roaming\\python\\python311\\site-packages (from effdet->unstructured[pdf]==0.14.5) (0.15.2)\n",
      "Requirement already satisfied: pycocotools>=2.0.2 in c:\\users\\cyntexia\\appdata\\roaming\\python\\python311\\site-packages (from effdet->unstructured[pdf]==0.14.5) (2.0.7)\n",
      "Requirement already satisfied: omegaconf>=2.0 in c:\\users\\cyntexia\\appdata\\roaming\\python\\python311\\site-packages (from effdet->unstructured[pdf]==0.14.5) (2.3.0)\n",
      "Requirement already satisfied: google-api-core!=2.0.*,!=2.1.*,!=2.10.*,!=2.2.*,!=2.3.*,!=2.4.*,!=2.5.*,!=2.6.*,!=2.7.*,!=2.8.*,!=2.9.*,<3.0.0dev,>=1.34.1 in c:\\users\\cyntexia\\appdata\\roaming\\python\\python311\\site-packages (from google-api-core[grpc]!=2.0.*,!=2.1.*,!=2.10.*,!=2.2.*,!=2.3.*,!=2.4.*,!=2.5.*,!=2.6.*,!=2.7.*,!=2.8.*,!=2.9.*,<3.0.0dev,>=1.34.1->google-cloud-vision->unstructured[pdf]==0.14.5) (2.19.0)\n",
      "Requirement already satisfied: google-auth!=2.24.0,!=2.25.0,<3.0.0dev,>=2.14.1 in c:\\users\\cyntexia\\appdata\\roaming\\python\\python311\\site-packages (from google-cloud-vision->unstructured[pdf]==0.14.5) (2.30.0)\n",
      "Requirement already satisfied: proto-plus<2.0.0dev,>=1.22.3 in c:\\users\\cyntexia\\appdata\\roaming\\python\\python311\\site-packages (from google-cloud-vision->unstructured[pdf]==0.14.5) (1.23.0)\n",
      "Requirement already satisfied: protobuf!=3.20.0,!=3.20.1,!=4.21.0,!=4.21.1,!=4.21.2,!=4.21.3,!=4.21.4,!=4.21.5,<5.0.0dev,>=3.19.5 in c:\\users\\cyntexia\\appdata\\roaming\\python\\python311\\site-packages (from google-cloud-vision->unstructured[pdf]==0.14.5) (4.25.3)\n",
      "Requirement already satisfied: six in c:\\users\\cyntexia\\conda\\lib\\site-packages (from langdetect->unstructured==0.14.5) (1.16.0)\n",
      "Requirement already satisfied: click in c:\\users\\cyntexia\\conda\\lib\\site-packages (from nltk->unstructured==0.14.5) (8.1.7)\n",
      "Requirement already satisfied: joblib in c:\\users\\cyntexia\\conda\\lib\\site-packages (from nltk->unstructured==0.14.5) (1.2.0)\n",
      "Requirement already satisfied: cryptography>=36.0.0 in c:\\users\\cyntexia\\conda\\lib\\site-packages (from pdfminer.six->unstructured[pdf]==0.14.5) (42.0.2)\n",
      "Requirement already satisfied: Deprecated in c:\\users\\cyntexia\\appdata\\roaming\\python\\python311\\site-packages (from pikepdf->unstructured[pdf]==0.14.5) (1.2.14)\n",
      "Requirement already satisfied: threadpoolctl>=2.0.0 in c:\\users\\cyntexia\\conda\\lib\\site-packages (from scikit-learn->sentence-transformers==3.0.1) (2.2.0)\n",
      "Requirement already satisfied: deepdiff>=6.0 in c:\\users\\cyntexia\\appdata\\roaming\\python\\python311\\site-packages (from unstructured-client->unstructured==0.14.5) (7.0.1)\n",
      "Requirement already satisfied: httpx>=0.27.0 in c:\\users\\cyntexia\\appdata\\roaming\\python\\python311\\site-packages (from unstructured-client->unstructured==0.14.5) (0.27.0)\n",
      "Requirement already satisfied: jsonpath-python>=1.0.6 in c:\\users\\cyntexia\\appdata\\roaming\\python\\python311\\site-packages (from unstructured-client->unstructured==0.14.5) (1.0.6)\n",
      "Requirement already satisfied: mypy-extensions>=1.0.0 in c:\\users\\cyntexia\\conda\\lib\\site-packages (from unstructured-client->unstructured==0.14.5) (1.0.0)\n",
      "Requirement already satisfied: nest-asyncio>=1.6.0 in c:\\users\\cyntexia\\conda\\lib\\site-packages (from unstructured-client->unstructured==0.14.5) (1.6.0)\n",
      "Requirement already satisfied: python-dateutil>=2.8.2 in c:\\users\\cyntexia\\conda\\lib\\site-packages (from unstructured-client->unstructured==0.14.5) (2.8.2)\n",
      "Requirement already satisfied: requests-toolbelt>=1.0.0 in c:\\users\\cyntexia\\conda\\lib\\site-packages (from unstructured-client->unstructured==0.14.5) (1.0.0)\n",
      "Requirement already satisfied: cffi>=1.12 in c:\\users\\cyntexia\\conda\\lib\\site-packages (from cryptography>=36.0.0->pdfminer.six->unstructured[pdf]==0.14.5) (1.16.0)\n",
      "Requirement already satisfied: ordered-set<4.2.0,>=4.1.0 in c:\\users\\cyntexia\\appdata\\roaming\\python\\python311\\site-packages (from deepdiff>=6.0->unstructured-client->unstructured==0.14.5) (4.1.0)\n",
      "Requirement already satisfied: googleapis-common-protos<2.0.dev0,>=1.56.2 in c:\\users\\cyntexia\\appdata\\roaming\\python\\python311\\site-packages (from google-api-core!=2.0.*,!=2.1.*,!=2.10.*,!=2.2.*,!=2.3.*,!=2.4.*,!=2.5.*,!=2.6.*,!=2.7.*,!=2.8.*,!=2.9.*,<3.0.0dev,>=1.34.1->google-api-core[grpc]!=2.0.*,!=2.1.*,!=2.10.*,!=2.2.*,!=2.3.*,!=2.4.*,!=2.5.*,!=2.6.*,!=2.7.*,!=2.8.*,!=2.9.*,<3.0.0dev,>=1.34.1->google-cloud-vision->unstructured[pdf]==0.14.5) (1.63.1)\n",
      "Requirement already satisfied: grpcio<2.0dev,>=1.33.2 in c:\\users\\cyntexia\\appdata\\roaming\\python\\python311\\site-packages (from google-api-core[grpc]!=2.0.*,!=2.1.*,!=2.10.*,!=2.2.*,!=2.3.*,!=2.4.*,!=2.5.*,!=2.6.*,!=2.7.*,!=2.8.*,!=2.9.*,<3.0.0dev,>=1.34.1->google-cloud-vision->unstructured[pdf]==0.14.5) (1.64.1)\n",
      "Requirement already satisfied: grpcio-status<2.0.dev0,>=1.33.2 in c:\\users\\cyntexia\\appdata\\roaming\\python\\python311\\site-packages (from google-api-core[grpc]!=2.0.*,!=2.1.*,!=2.10.*,!=2.2.*,!=2.3.*,!=2.4.*,!=2.5.*,!=2.6.*,!=2.7.*,!=2.8.*,!=2.9.*,<3.0.0dev,>=1.34.1->google-cloud-vision->unstructured[pdf]==0.14.5) (1.62.2)\n",
      "Requirement already satisfied: cachetools<6.0,>=2.0.0 in c:\\users\\cyntexia\\conda\\lib\\site-packages (from google-auth!=2.24.0,!=2.25.0,<3.0.0dev,>=2.14.1->google-cloud-vision->unstructured[pdf]==0.14.5) (4.2.2)\n",
      "Requirement already satisfied: pyasn1-modules>=0.2.1 in c:\\users\\cyntexia\\conda\\lib\\site-packages (from google-auth!=2.24.0,!=2.25.0,<3.0.0dev,>=2.14.1->google-cloud-vision->unstructured[pdf]==0.14.5) (0.2.8)\n",
      "Requirement already satisfied: rsa<5,>=3.1.4 in c:\\users\\cyntexia\\appdata\\roaming\\python\\python311\\site-packages (from google-auth!=2.24.0,!=2.25.0,<3.0.0dev,>=2.14.1->google-cloud-vision->unstructured[pdf]==0.14.5) (4.9)\n",
      "Requirement already satisfied: anyio in c:\\users\\cyntexia\\appdata\\roaming\\python\\python311\\site-packages (from httpx>=0.27.0->unstructured-client->unstructured==0.14.5) (3.7.1)\n",
      "Requirement already satisfied: httpcore==1.* in c:\\users\\cyntexia\\appdata\\roaming\\python\\python311\\site-packages (from httpx>=0.27.0->unstructured-client->unstructured==0.14.5) (1.0.5)\n",
      "Requirement already satisfied: sniffio in c:\\users\\cyntexia\\conda\\lib\\site-packages (from httpx>=0.27.0->unstructured-client->unstructured==0.14.5) (1.3.0)\n",
      "Requirement already satisfied: h11<0.15,>=0.13 in c:\\users\\cyntexia\\appdata\\roaming\\python\\python311\\site-packages (from httpcore==1.*->httpx>=0.27.0->unstructured-client->unstructured==0.14.5) (0.14.0)\n",
      "Requirement already satisfied: jsonpointer>=1.9 in c:\\users\\cyntexia\\conda\\lib\\site-packages (from jsonpatch<2.0,>=1.33->langchain-core<0.3.0,>=0.2.0->langchain-community==0.2.4) (2.1)\n",
      "Requirement already satisfied: antlr4-python3-runtime==4.9.* in c:\\users\\cyntexia\\appdata\\roaming\\python\\python311\\site-packages (from omegaconf>=2.0->effdet->unstructured[pdf]==0.14.5) (4.9.3)\n",
      "Requirement already satisfied: coloredlogs in c:\\users\\cyntexia\\appdata\\roaming\\python\\python311\\site-packages (from onnxruntime>=1.17.0->unstructured-inference==0.7.33->unstructured[pdf]==0.14.5) (15.0.1)\n",
      "Requirement already satisfied: flatbuffers in c:\\users\\cyntexia\\appdata\\roaming\\python\\python311\\site-packages (from onnxruntime>=1.17.0->unstructured-inference==0.7.33->unstructured[pdf]==0.14.5) (24.3.25)\n",
      "Requirement already satisfied: contourpy>=1.0.1 in c:\\users\\cyntexia\\conda\\lib\\site-packages (from matplotlib->unstructured-inference==0.7.33->unstructured[pdf]==0.14.5) (1.2.0)\n",
      "Requirement already satisfied: cycler>=0.10 in c:\\users\\cyntexia\\conda\\lib\\site-packages (from matplotlib->unstructured-inference==0.7.33->unstructured[pdf]==0.14.5) (0.11.0)\n",
      "Requirement already satisfied: fonttools>=4.22.0 in c:\\users\\cyntexia\\conda\\lib\\site-packages (from matplotlib->unstructured-inference==0.7.33->unstructured[pdf]==0.14.5) (4.25.0)\n",
      "Requirement already satisfied: kiwisolver>=1.0.1 in c:\\users\\cyntexia\\conda\\lib\\site-packages (from matplotlib->unstructured-inference==0.7.33->unstructured[pdf]==0.14.5) (1.4.4)\n",
      "Requirement already satisfied: pyparsing>=2.3.1 in c:\\users\\cyntexia\\conda\\lib\\site-packages (from matplotlib->unstructured-inference==0.7.33->unstructured[pdf]==0.14.5) (3.0.9)\n",
      "Requirement already satisfied: MarkupSafe>=2.0 in c:\\users\\cyntexia\\conda\\lib\\site-packages (from jinja2->torch>=1.11.0->sentence-transformers==3.0.1) (2.1.3)\n",
      "Requirement already satisfied: pandas in c:\\users\\cyntexia\\conda\\lib\\site-packages (from layoutparser->unstructured-inference==0.7.33->unstructured[pdf]==0.14.5) (2.1.4)\n",
      "Requirement already satisfied: iopath in c:\\users\\cyntexia\\appdata\\roaming\\python\\python311\\site-packages (from layoutparser->unstructured-inference==0.7.33->unstructured[pdf]==0.14.5) (0.1.10)\n",
      "Requirement already satisfied: pdfplumber in c:\\users\\cyntexia\\appdata\\roaming\\python\\python311\\site-packages (from layoutparser->unstructured-inference==0.7.33->unstructured[pdf]==0.14.5) (0.11.0)\n",
      "Requirement already satisfied: mpmath>=0.19 in c:\\users\\cyntexia\\conda\\lib\\site-packages (from sympy->torch>=1.11.0->sentence-transformers==3.0.1) (1.3.0)\n",
      "Requirement already satisfied: pycparser in c:\\users\\cyntexia\\conda\\lib\\site-packages (from cffi>=1.12->cryptography>=36.0.0->pdfminer.six->unstructured[pdf]==0.14.5) (2.21)\n",
      "Requirement already satisfied: pyasn1<0.5.0,>=0.4.6 in c:\\users\\cyntexia\\conda\\lib\\site-packages (from pyasn1-modules>=0.2.1->google-auth!=2.24.0,!=2.25.0,<3.0.0dev,>=2.14.1->google-cloud-vision->unstructured[pdf]==0.14.5) (0.4.8)\n",
      "Requirement already satisfied: humanfriendly>=9.1 in c:\\users\\cyntexia\\appdata\\roaming\\python\\python311\\site-packages (from coloredlogs->onnxruntime>=1.17.0->unstructured-inference==0.7.33->unstructured[pdf]==0.14.5) (10.0)\n",
      "Requirement already satisfied: portalocker in c:\\users\\cyntexia\\appdata\\roaming\\python\\python311\\site-packages (from iopath->layoutparser->unstructured-inference==0.7.33->unstructured[pdf]==0.14.5) (2.8.2)\n",
      "Requirement already satisfied: pytz>=2020.1 in c:\\users\\cyntexia\\conda\\lib\\site-packages (from pandas->layoutparser->unstructured-inference==0.7.33->unstructured[pdf]==0.14.5) (2023.3.post1)\n",
      "Requirement already satisfied: tzdata>=2022.1 in c:\\users\\cyntexia\\conda\\lib\\site-packages (from pandas->layoutparser->unstructured-inference==0.7.33->unstructured[pdf]==0.14.5) (2023.3)\n",
      "Requirement already satisfied: pypdfium2>=4.18.0 in c:\\users\\cyntexia\\appdata\\roaming\\python\\python311\\site-packages (from pdfplumber->layoutparser->unstructured-inference==0.7.33->unstructured[pdf]==0.14.5) (4.30.0)\n",
      "Requirement already satisfied: pyreadline3 in c:\\users\\cyntexia\\appdata\\roaming\\python\\python311\\site-packages (from humanfriendly>=9.1->coloredlogs->onnxruntime>=1.17.0->unstructured-inference==0.7.33->unstructured[pdf]==0.14.5) (3.4.1)\n",
      "Requirement already satisfied: pywin32>=226 in c:\\users\\cyntexia\\conda\\lib\\site-packages (from portalocker->iopath->layoutparser->unstructured-inference==0.7.33->unstructured[pdf]==0.14.5) (305.1)\n"
     ]
    }
   ],
   "source": [
    "!pip  install langchain-community==0.2.4\n",
    "!pip  install langchain==0.2.3 \n",
    "!pip  install faiss-cpu==1.8.0 # Facebook ai team similarity search  similarity search of vector here all the content into vector embeding all the query also converted into vector embeding wedo similarty search in this case we should use faiss\n",
    "!pip  install unstructured==0.14.5 \n",
    "!pip  install unstructured[pdf]==0.14.5\n",
    "!pip  install transformers==4.41.2  # it is used to load the enbeding model\n",
    "!pip  install sentence-transformers==3.0.1 # it is used to load the sentence enbeding model transformer and sentence libraby"
   ]
  },
  {
   "cell_type": "code",
   "execution_count": 3,
   "metadata": {},
   "outputs": [],
   "source": [
    "import os  # it is used to access some of file which was present in our local system\n",
    "\n",
    "from langchain_community.llms import Ollama    # access the model llm\n",
    "from langchain.document_loaders import UnstructuredFileLoader\n",
    "from langchain_community.vectorstores import FAISS\n",
    "from langchain.embeddings import HuggingFaceEmbeddings\n",
    "from langchain.text_splitter import CharacterTextSplitter\n",
    "from langchain.chains import RetrievalQA"
   ]
  },
  {
   "cell_type": "code",
   "execution_count": 4,
   "metadata": {},
   "outputs": [],
   "source": [
    "# loading the LLM\n",
    "llm = Ollama(\n",
    "    model=\"llama3:instruct\",\n",
    "    temperature=0\n",
    ")"
   ]
  },
  {
   "cell_type": "code",
   "execution_count": 5,
   "metadata": {},
   "outputs": [],
   "source": [
    "# loading the document\n",
    "loader = UnstructuredFileLoader(\"mental_health_Document.pdf\")\n",
    "documents = loader.load()"
   ]
  },
  {
   "cell_type": "code",
   "execution_count": 6,
   "metadata": {},
   "outputs": [],
   "source": [
    "# create document chunks\n",
    "text_splitter = CharacterTextSplitter(separator=\"/n\",\n",
    "                                      chunk_size=1000,\n",
    "                                      chunk_overlap=200)"
   ]
  },
  {
   "cell_type": "code",
   "execution_count": 7,
   "metadata": {},
   "outputs": [],
   "source": [
    "text_chunks = text_splitter.split_documents(documents)"
   ]
  },
  {
   "cell_type": "code",
   "execution_count": 8,
   "metadata": {},
   "outputs": [
    {
     "data": {
      "text/plain": [
       "[Document(page_content='See discussions, stats, and author profiles for this publication at: https://www.researchgate.net/publication/255657987\\n\\nDeﬁning mental health and mental illness\\n\\nArticle · January 2009\\n\\nCITATIONS 9\\n\\nREADS 141,176\\n\\n2 authors, including:\\n\\nNisha Dogra\\n\\nUniversity of Leicester\\n\\n152 PUBLICATIONS 2,847 CITATIONS\\n\\nSEE PROFILE\\n\\nSome of the authors of this publication are also working on these related projects:\\n\\nCultural Psychiatry View project\\n\\nDiversifying the medical curriculum View project\\n\\nAll content following this page was uploaded by Nisha Dogra on 20 May 2014.\\n\\nThe user has requested enhancement of the downloaded file.\\n\\n1\\n\\nDeﬁning mental health and mental illness Sharon Leighton and Nisha Dogra\\n\\nKey features\\n\\n(cid:127) Discussion of the terminological confusion that exists in relation to issues\\n\\nassociated with mental health.\\n\\n(cid:127) The scale of individual suffering from mental health problems and illness\\n\\namong young people.\\n\\n(cid:127) The worldwide phenomenon of the stigmatization of mental illness,\\n\\noriginating during childhood.\\n\\n(cid:127) Evidence regarding interventions to reduce stigma.\\n\\nIntroduction\\n\\nIn this chapter we explore the concepts of mental health and mental illness from different perspectives, including those relating to children, and of children. This is important as those who work in mental health, or are familiar with the ﬁeld, often make the assumption that the terms used are readily understood by others. The scale of the problem and access to services is outlined. We then discuss stigma generally, explore the reasons for it and possible sequelae, and then consider how this relates to children. Finally, interventions to reduce stigma are brieﬂy presented. As mentioned in the Introduction, where possible we have referred speciﬁcally to the literature relating to children but where this is limited we have drawn from the wider literature to highlight key issues.\\n\\nThe chapter begins with an exercise which provides a practical context for the theoretical content and should be borne in mind as you read, and answered once you have ﬁnished the chapter.\\n\\nBox 1.1 Exercise General questions\\n\\n(cid:127) What words or images do you associate with the following terms:\\n\\n(cid:127) Mental health (cid:127) Mental health problems (cid:127) Mental illness (cid:127) Mental disorder\\n\\n(cid:127) What sorts of problems do people experience that could be described as mental\\n\\nhealth problems or mental illness?\\n\\n(cid:127) How would you be able to tell if someone was experiencing mental health prob-\\n\\nlems or mental illness?\\n\\n8\\n\\nNursing in child and adolescent mental health\\n\\nCase scenarios and associated questions\\n\\nPlease read each senario and then consider the following questions in relation to it:\\n\\n(cid:127) What do you think might be happening with the young person? (cid:127) Do you think the young person has a mental health problem or illness? If so, on\\n\\nwhat grounds would you justify that decision?\\n\\n(cid:127) Do they need help? (cid:127) If so, who and/or what might be helpful? (cid:127) How might this be helpful?\\n\\nCase scenario 1\\n\\nJack, aged 9, lives with his mother and younger brother. His father unexpectedly left the family a year ago. Jack started a new school six months ago and is having difﬁculty settling in. He complains of tummy ache each school morning and is increasingly reluctant to attend.\\n\\nCase scenario 2\\n\\nEmily, aged 14, lives with her parents, who are both busy professionals. She works hard, achieves A-grades and plans to be a lawyer. Recently she has been teased by her friends about her weight and has decided to go on a strict diet. She is pleased with the results so far and plans to continue eating little, making herself sick after meals and exercising a lot.\\n\\nCase scenario 3\\n\\nJoshua, aged 15, lives with his dad and stepmother. He has little contact with his mum or younger brother and sister. Recently he has been cautioned by the police for joy-riding in stolen cars with his mates. He prefers to spend time smoking dope with older boys rather than going to school.\\n\\nDeﬁning mental health and mental illness\\n\\nClarity is essential when using the terms ‘mental health’ and ‘mental illness’. In all phases of a recent small-scale research project, conceptual confusion was identiﬁed in the literature review and among participants (Leighton 2008). Ironically, referring to mental illness in terms of mental health originated in the 1960s in an attempt to reduce stigma (Rowling et al. 2002). There is no widely agreed consensus on the meaning of these terms and their use. Mental health and mental illness can be perceived as two separate, yet related, issues.\\n\\nRyff and Singer (1998) suggest that health is not a medical concept associated with absence of illness, but rather a philosophical one that requires an explanation of a good life – being one where an individual has a sense of purpose, is engaged in quality relationships with others, and possesses self-respect and mastery. This is synonymous with the World Health Organization (WHO) (2000, 2005b) deﬁnition of positive mental health.\\n\\nHowever, such a deﬁnition is incomplete as individuals do not exist in isolation, but are inﬂuenced by, and inﬂuence, their social and physical environments. Furthermore, people will have their own individual interpretations of what a good life is. Rowling et al. (2002: 13) deﬁne mental health as the\\n\\nDeﬁning mental health and mental illness\\n\\ncapacity of individuals and groups to interact with one another and the environment in ways that promote subjective wellbeing, the optimal development and use of cognitive, affective and relational abilities, the achievement of individual and collective goals consistent with justice.\\n\\nThis is a more rounded deﬁnition, and one that can coexist alongside the WHO (1992) deﬁnition of mental disorder.\\n\\nMental health – one of many factors\\n\\nIt is also important to recognize that neither physical nor mental health exist separately – mental, physical and social functioning are interdependent (WHO 2004). Furthermore, all health issues need to be considered within a cultural and developmental context, as do the social constructs of childhood and adolescence (Walker 2005). The quality of a person’s mental health is inﬂuenced by idiosyncratic factors and experiences, their family relationships and circumstances and the wider community in which they live (WHO 2004). Additionally, each culture inﬂuences people’s understanding of, and attitudes towards, mental health issues. However, a culture-speciﬁc approach to understanding and improving mental health can be unhelpful if it assumes homogeneity within cultures and ignores individual differences (WHO 2004). Culture is only one, albeit important, factor that inﬂuences individuals’ beliefs and actions (Tomlinson 2001; Dogra 2003). Interaction between different factors may lead to differ- ent outcomes for different individuals.\\n\\nIt can be argued that the above approaches are rooted in western perspectives. However, they provide a useful starting point from which to discuss mental health issues with children and their families.\\n\\nDeﬁnitions of child mental health\\n\\nDeﬁnitions of mental health as they relate speciﬁcally to children have been provided by the Health Advisory Service (HAS) (1995) and the Mental Health Foundation (1999). These def- initions bear similarities to those provided by Ryff and Singer (1998) and Rowling et al. (2002), while recognizing the developmental context of childhood – i.e. the ability to develop psycho- logically, emotionally, creatively, intellectually and spiritually; initiate, develop and sustain mutually satisfying personal relationships; use and enjoy solitude; become aware of others and empathize with them; play and learn; develop a sense of right and wrong; and resolve problems and setbacks and learn from them (HAS 1995; Mental Health Foundation 1999). Such deﬁnitions are useful as they relate to ‘societal’ expectations of children.\\n\\nDifferent deﬁnitions are used to deﬁne mental ill health. The WHO uses the term ‘mental disorders’ broadly, to include mental illness, intellectual disability, personality disorder, sub- stance dependence and adjustment to adverse life events (WHO 1992). The WHO acknowledges that the word ‘disorder’ is used to avoid perceived greater difﬁculties associated with ‘illness’ – for example, stigma and the emphasis on a medical model. Meltzer et al. (2000) use the term ‘mental disorders’ in reference to emotional, conduct, hyperkinetic and less common disorders as deﬁned by the ICD (International Classiﬁcation of Diseases) 10 and DSM (Diagnostic and Statistical Manual of Mental Disorders) IV. Jorm (2000) focuses speciﬁcally on depression and psychosis. Meanwhile, Rowling et al. (2002) use the terms ‘mental illness’ and ‘mental disorder’ interchangeably. Johns (2002) and the British Medical Association (BMA 2006) identify that the term ‘mental health problems’ is used to cover a broad spectrum of conditions ranging from diagnosable disorders such as anxiety and depression, through to acting out behaviours. The BMA (2006) also distinguish between mental disorders and illness, with illness being severe psychiatric disorders such as depression and psychosis.\\n\\n9\\n\\n10\\n\\nNursing in child and adolescent mental health\\n\\nOthers take a broader view. Rickwood et al. (2005) refer to ‘young people’s help-seeking for mental health problems’ and proceed to use various terms including ‘psychological distress’, ‘mental health issues’, ‘mental health problems’ and ‘mental disorder’. The interchangeable use of these terms in effect renders them meaningless, as their use may reﬂect an individual’s bias, or political correctness, rather than indicating the extent or severity of the problem. However, all identify alterations in mood, thinking and behaviour associated with distress or impaired functioning across various domains.\\n\\nEntity or dimension?\\n\\nKendall (1988) presents the relative merits of using categories and dimensions with respect to mental disorders. Typically, medicine has used categories, given its roots in the biological sciences. Categorization allows for easier deﬁnitions, recognition if someone ﬁts a particular category and therefore conformity with a clinical concept. However, a dimensions approach allows for greater ﬂexibility. Kendall (1988) concludes that where psychotic illness is concerned a categorical approach may be preferable, whereas in other conditions the situation is more likely to be changeable, and would perhaps beneﬁt from a dimensional perspective.\\n\\nOne way of distinguishing between distress associated with adverse life events and more severe disorders which involve physiological symptoms and underlying biological changes is to distinguish between mental health problems and mental illness, using a multi-dimensional model. This has an additional advantage in enabling normal ‘distress’ (e.g. grief following bereavement) to be recognized as part of the ‘human condition’, rather than being medicalized and possibly classed as ‘depression’. It is suggested that a variety of normal human experiences have become medicalized through an ever increasing range of psychological disorders with virtually every type of behaviour eligible for a medical label (e.g. social phobia, over-eating disorder, dependent personality disorder) (Illich 1977; WHO 1992; American Psychiatric Association 1994).\\n\\nRowling et al. (2002) propose that mental health and mental illness can be seen to exist as part of a multi-dimensional model. An exemplar of mental health and mental illness being two separate and yet related continua can be found in the vulnerability-stress working model developed by Asarnow et al. (2001). This model suggests how the effects of ongoing stress on mental health can lead to mental illness (depression) if left unchallenged.\\n\\nDepression is classed as a diagnosable disorder which is reported to be on the increase (WHO 1996). However, the term ‘depression’ is also employed in everyday language for a variety of states of distress: demoralization as a result of long-term suffering; living with chronic adversity and stress; reaction to loss; low self-esteem; and pessimistic outlook. While there are similarities between the feelings of unhappiness, despondency, frustration and sense of hopelessness associated with a state of emotional stress and with depression, the latter involves pervasive physical symptoms such as sleep and appetite disturbance, and, ultimately, changes in brain chemistry. However, the cut-off between what is ‘normal’ stress and what is depression may not always be clear. It is not just the presence of symptoms that deﬁnes a disorder but also its severity and pervasiveness as well as its impact on everyday functioning.\\n\\nThus, from a dimensional perspective, many features of mental disorder (psychosis excepted) can be viewed as part of the range of ‘normal’ human behaviour. For example, anxiety is a normal human response to the perception of danger. Different types of anxiety are develop- mentally appropriate during childhood – for example, separation is an issue for infants, academic performance can cause anxiety during middle childhood and peer rejection concerns adolescents (Moore and Carr 2000).\\n\\nDeﬁning mental health and mental illness\\n\\nMental health literacy\\n\\nFinally, in this section, it is also worth considering how the mental health ‘literacy’ of adults and children in the general population varies from that of professionals. In all phases of a recent research project, conceptual confusion was identiﬁed in the literature review and among ado- lescent participants (Leighton 2006, 2008). Focus group participants did not ﬁnd the single continuum model suggested by the WHO (2000) helpful (Leighton 2006). Furthermore, in the focus group feedback session, participants suggested that labelling serious mental illnesses such as schizophrenia and major depression, as ‘mental health problems’, diminishes the seriousness of mental illness, with implications for attitudes towards, and treatment of, those with mental illness (Leighton 2006). It is also evident that there is considerable confusion for young people between the terms ‘mental health’, ‘mental illness’ and ‘learning disability’ (Dogra et al. 2007; Rose et al. 2007).\\n\\nHowever, whatever terminology is used, the scale of individual suffering from mental health\\n\\nproblems and illness is signiﬁcant, and this is now brieﬂy outlined.\\n\\nThe scale of the problem\\n\\nThe number of people experiencing mental health problems worldwide is reported to have risen to nearly epidemic proportions, with depression identiﬁed as the leading cause of disability among 15–44-year-olds (WHO 1996). In the UK the prevalence of mental health problems among adolescents is high. One in 20 is reported to be experiencing mental health problems at any given time (Mental Health Foundation 1999; Meltzer et al. 2000; Coleman and Schoﬁeld 2005). The Ofﬁce for National Statistics (ONS) survey carried out in 1999 identiﬁed the follow- ing prevalence rates of diagnosable mental disorder among 11–15-year-olds: depression 1.8 per cent; anxiety 4.6 per cent; conduct disorder 6.2 per cent (Meltzer et al. 2000). Moreover, the prevalence of serious mental illness increases greatly during adolescence (Davidson and Manion 1996; Smith and Leon 2001; Rickwood et al. 2005). Such problems have a negative impact on an individual’s development across all areas of their lives – i.e. self-esteem, relationships, academic success, career options and lifestyle (Mental Health Foundation 1999; Meltzer et al. 2000). Furthermore, the burden of adolescent mental health problems and illness involves enormous ﬁnancial costs to individuals, families and society. These include loss of earnings for parents and adolescents, and social care, health service, education and Home Ofﬁce costs (Appleton and Hammond-Rowley 2000). Although the scale of the problem is vast, studies indicate that less than a ﬁfth of young people who need mental health care actually receive any services and, of those who do receive services, less than half obtain services appropriate to their need (Atkins et al. 2003; Hinshaw 2005).\\n\\nStigma and mental illness\\n\\nIn this section the aim is to explore the concepts of, and the relationship between, stigma and mental illness. One possible reason for both conceptual confusion and reluctance to seek help is that the stigmatization of mental illness continues to be a worldwide phenomenon (Jorm et al. 1997; Crisp et al. 2000; Sartorius 2002; Gureje et al. 2005).\\n\\nDeﬁnition of the concept of stigma\\n\\nStigma can be viewed as a social construct. Setting people apart from other members of society has a long history. In ancient Greece members of tainted groups – for example, slaves and\\n\\n11\\n\\n12\\n\\nNursing in child and adolescent mental health\\n\\ntraitors – were branded with a mark (Goffman 1970; Hinshaw 2005). The concept is applied in diverse circumstances, including with reference to the mentally ill (Link and Phelan 2001). Additionally, stigmatization can be seen to depend on social, economic and political power and can occur on a large and tragic scale – for example, the systematic and dreadful stigmatization of the Jewish people by the Nazis (Link and Phelan 2001). Stigma was deﬁned by Goffman (1970) as the position of the individual who is disqualiﬁed from full social acceptance. It is perceived as the outcome of a process of social labelling which singles out difference, names this difference inferiority, subsequently blames those who are different for their otherness and contributes to the creation of a spoilt identity (Goffman 1970). Since that seminal develop- ment, the concept has evolved. For example, stigma can be described with reference to the relationships between a set of interrelated concepts, rather than focusing solely on personal attributes – i.e. stigma exists when elements of labelling, stereotyping, separation, status loss and discrimination occur together in a power situation that allows these processes to happen (Link and Phelan 2001).\\n\\nThe nature and extent of stigmatization in adult mental illness\\n\\nThere are many factors involved in the formation of individuals’ beliefs about mental illness, and their attitudes and behaviour towards those labelled as mentally ill. These include personal experience of mental illness, either personally or in someone known to them; the impact of the media; beliefs as to what causes mental illness (e.g. genetic, self-inﬂicted); and socio-cultural inﬂuences (Hinshaw 2005).\\n\\nFour possible explanations for the stigmatization of mental illness have been identiﬁed in\\n\\nthe research literature:\\n\\n(cid:127) dangerousness; (cid:127) attribution of responsibility; (cid:127) belief that mental illness is chronic with a poor prognosis; (cid:127) disruption of normal social interactions based on social rules (Hayward and Bright 1997).\\n\\nThese explanations can be elaborated as follows: people with mental illness are perceived as dangerous and unpredictable; there is an implied belief that the mentally ill choose to behave as they do and have only themselves to blame for their situation; people with mental illness are believed to respond poorly to treatment, and outcomes are poor, therefore they are an embarrassment and should be avoided; the mentally ill are seen as difﬁcult to communicate with and this makes for unpredictable social intercourse. These are enduring themes, provoking personal fear in others and threatening to upset the status quo (Hayward and Bright 1997; Eminson 2004).\\n\\nExplanations for the stigmatization of the mentally ill include the following ideas.\\n\\n(cid:127) From a biological perspective, a person suffering from mental illness may be viewed as a poor genetic choice in relation to reproductive potential and as a possible threat to the safety of the individual.\\n\\n(cid:127) The need to share understanding in order to survive as an individual and as a species means that when a person’s way of perceiving the world is unfamiliar to us we can feel threatened and uncertain as to how to respond to them (Eminson 2004).\\n\\nMedia, mental illness and stigma\\n\\nThere is a dearth of research which focuses speciﬁcally on how mental illness is depicted in the children’s and young persons’ media (Wahl 2002). This is despite suggestions that such media\\n\\nDeﬁning mental health and mental illness\\n\\nprovide the means by which young people will derive a preliminary understanding of mental illness. Participants in a small-scale local study identiﬁed some positive and accurate represen- tations in the media. These included the Jacqueline Wilson books, the ﬁlm A Beautiful Mind and Channel 4 documentaries (Leighton 2006). Byrne (2003) discusses examples in soap operas when television can perform a major public service where care is taken over how mental illness is portrayed. One suspects that the converse is also true – that when care is not taken the damage done to those suffering with mental illness can be immense.\\n\\nTwo large-scale literature reviews have suggested that the media can be regarded as an important inﬂuence on community attitudes towards mental illness. It is considered that there is a complex and circular relationship between mass media representation of mental illness and public understanding, with negative media images promoting negative attitudes and resultant media coverage feeding off an already negative public perception. It is also thought that negative images will have a greater effect on public attitudes than positive por- trayals (Francis et al. 2001; Edney 2004). Work by Wahl (2003) suggests that this is equally applicable to children.\\n\\nConsequences of stigma\\n\\nStigmatization of the mentally ill is understood to be prejudicial to them, injurious to all aspects of their treatment in mental health services and damaging to their role as members of society (Hinshaw 2005). Stigmatization leads to individual and social discrimination against the stig- matized person. Several authors identify that the discriminatory behaviour displayed can be hostile or avoidant and that it operates throughout personal and social relationships, pervading the home, workplace, local community, health and social welfare systems. This can result in increased feelings of shame, increased personal and social impairment and isolation, perpetu- ation and worsening of an illness, reluctance to access health care and infringement of human rights (Link and Phelan 2001; Crisp 2004; Hinshaw 2005).\\n\\nChildren, mental illness and stigma\\n\\nThere is also a scarcity of research examining the issue of stigma in relation to children and mental illness (Wahl 2002; Hinshaw 2005). As described previously, the high prevalence of mental health problems in young people and their reluctance to access specialist services gives cause for concern. The indications are that children develop negative attitudes towards those with mental illness early on (Gale 2007). Additionally, adolescents are the adults of the future and therefore their beliefs and attitudes regarding mental health and illness will affect service development, the quality of life of those experiencing mental health problems and the help- seeking behaviour of individuals (Armstrong et al. 2000; Hinshaw 2005).\\n\\nBox 1.2 highlights themes identiﬁed from work which focused on adolescents, mental illness\\n\\nand stigma, albeit to varying degrees and using different methods.\\n\\nBox 1.2 Themes associated with mental illness and stigma identiﬁed\\n\\nby adolescents\\n\\nNegative attitudes towards groups described as deviant – for example, the mentally ill – were apparent by kindergarten and increased with age (Weiss 1986, 1994; Wahl 2002).\\n\\n13\\n\\n14\\n\\nNursing in child and adolescent mental health\\n\\nWords and phrases used to describe people with mental health problems or mental illness were largely derogatory, with the most common labels being ‘retarded’, ‘psycho(path)’, ‘spastic’, ‘mental’, ‘crazy’ and ‘nutter’ (Bailey 1999; Pinfold et al. 2003).\\n\\nThe most frequently cited causes of mental illness were stress, genetics and bad childhood experiences (Bailey 1999).\\n\\nYoung people with experience of mental health problems described being met with negative attitudes and reactions from other people, including professionals (Scottish Executive 2005).\\n\\nAlthough adolescents stigmatized peers with both physical and mental illness, they had a greater tendency to stigmatize those experiencing a mental illness (Sessa 2005a, 2005b).\\n\\nAdolescents presenting in school with either a physical or mental illness were likely to be socially excluded, itself a risk factor for developing mental health problems (Sessa 2005a, 2005b).\\n\\nProviding mental health education could lead to a positive change in reported attitudes in the short term, especially among females and those reporting personal contact with someone who had a mental illness (Pinfold et al. 2003).\\n\\nAlthough adolescents with less knowledge about mental health and illness had more negative attitudes towards mental illness, this did not inﬂuence the willing- ness to seek help for mental health problems as much as other factors – for example, level of psychological distress, number of barriers to overcome in order to access help, or adaptability (Shefﬁeld et al. 2004).\\n\\nFrom the sparse literature available, it would appear that adolescents’ attitudes towards mental illness tend to be negative and stigmatizing. The need for education among the public, and adolescents in particular, in order to combat the stigma of mental illness is highlighted in the literature (Davidson and Manion 1996; Armstrong et al. 1998; Esters et al. 1998; Bailey 1999; Secker et al. 1999; Taylor 2001; Naylor et al. 2002; Pow 2003; Hinshaw 2005; Sessa 2005b).\\n\\nEarly indicators from our own work in Nigeria are that such attitudes transcend culture (Dogra 2009). However, there is evidence that stigma can be tackled. We will now examine some of the interventions undertaken to reduce stigma among children.\\n\\nInterventions to reduce stigma\\n\\nLarge-scale interventions, such as high proﬁle campaigns, are often difﬁcult to evaluate. In the UK there have been several such campaigns – for example, The Royal College of Psychiatrists’ campaign, ‘Every Family in the Land’ (Crisp 2004) and the WHO ‘Dare to Care’ campaign (WHO 2001). There is little evidence available to indicate that these have successfully changed public or personal attitudes, although there is evidence that more targeted initiatives may reap beneﬁts (WHO 2005a). While much of the work to date has focused on adults, there are increas- ing efforts to address the issue among younger populations.\\n\\nThere is scope for joint working between schools and child and adolescent mental health services (CAMHS) in order to provide mental health promotion and reduce stigma. However, it is important that we do not attempt to reduce stigma by just changing the terminology used, as there is no evidence that such strategies work.\\n\\nOne small-scale local study found that young people thought they might be helped by\\n\\nDeﬁning mental health and mental illness\\n\\nhaving more basic information about local services (Dogra et al. 2007). In another such study, adolescents who lived with parental mental illness suggested that the best ways of providing adolescents with information about mental health included real experience and focusing on the issue in schools – i.e. existing sources of (mis)information. It was thought that those speak- ing out should be adolescents who were conﬁdent to talk about their situation, but they should not talk to people they knew for fear of being bullied and they should be pupils at other schools (Leighton 2006).\\n\\nTwo school-based interventions reported promising results. Rahman et al. (1998) concluded that the school programme they undertook was successful in improving mental health aware- ness in the children and their community. Unfortunately, the intervention is only brieﬂy described and it is difﬁcult to be clear whether attitudes towards mental health (and issues about stigma) were addressed, or whether awareness of mental health (and therefore knowledge and understanding) informed the intervention. More recently, Pinfold et al. (2003) undertook short educational workshops with 472 secondary school children in the UK. Changes were most marked for female students and those who had personal contact with people with mental health problems. Further analysis of the labels used to stigmatize people with mental illness found that of the 472 students sampled, 400 of them provided 250 words to describe a person with mental illness. Nearly half were derogatory (Rose et al. 2007). The authors conclude that there need to be interventions which address factual information about mental illness and that reduce the strong negative emotional reactions to people with mental illness. Effective evaluation is unlikely to be possible if there is no clarity about the purpose of the intervention or too many aspects covered in one evaluation (Naylor et al. 2002).\\n\\nSummary\\n\\nConsiderable terminological confusion exists in relation to issues associated with mental health generally and among children and young people speciﬁcally. Furthermore, stigmatizing atti- tudes towards mental illness and related issues continue to pose a challenge. Children, young people and adults display similar negative attitudes towards both mental illness and individuals experiencing mental health problems or illness. However, there is some evidence that these might be amenable to interventions such as education.\\n\\nYou may now wish to reﬂect on the issues discussed in this chapter by returning to the\\n\\nexercise in Box 1.1.\\n\\nReferences\\n\\nAmerican Psychiatric Association (1994) Diagnostic and Statistical Manual of Mental Disorders, 4th edn.\\n\\nArlington, VA: American Psychiatric Association.\\n\\nAppleton, P.L. and Hammond-Rowley, S. (2000) Addressing the population burden of child and adolescent\\n\\nmental health problems: a primary care model, Child Psychology and Psychiatry Review, 5(1): 9–16.\\n\\nArmstrong, C., Hill, M. and Secker, J. (1998) Listening to Children. London: The Mental Health Foundation. Armstrong, C., Hill, M. and Secker, J. (2000) Young people’s perceptions of mental health, Children and\\n\\nSociety, 14: 60–72.\\n\\nAsarnow, J.R., Jaycox, L.H. and Thompson, M.C. (2001) Depression in youth: psychosocial interventions,\\n\\nJournal of Clinical Child Psychology, 30(1): 33–47.\\n\\nAtkins, M.S., Frazier, S.L., Adil, J.A. and Talbot, E. (2003) School based mental health services in urban communities, in M.D. Weist, S.W. Evans and N.A. Lever (eds) Handbook of School Mental Health: Advancing Practice and Research. Hingham, MA: Kluwer Academic/Plenum Publishers.\\n\\nBailey, S. (1999) Young people, mental health and stigmatization, Psychiatric Bulletin, 23: 107–10. BMA (British Medical Association) (2006) Child and Adolescent Mental Health: A Guide for Health Care\\n\\n15\\n\\n16\\n\\nNursing in child and adolescent mental health\\n\\nProfessionals, www.bma.org.uk/ap.nsf/AttachmentsByTitle/PDFChildAdolescentMentalHealth/$FILE/ ChildAdolescentMentalHealth.pdf, accessed 5 August 2007.\\n\\nByrne, P. (2003) Psychiatry and the media, Advances in Psychiatric Treatment, 9: 135–43. Coleman, J. and Schoﬁeld, J. (2005) Key Data on Adolescence, 5th edn. Brighton: Trust for the Study of\\n\\nAdolescence.\\n\\nCrisp, A. (2004) The nature of stigmatisation, in A.H. Crisp (ed.) Every Family in the Land: Understanding Prejudice and Discrimination against People with Mental Illness. London: Royal Society of Medicine Press. Crisp, A.H., Gelder, M., Rix, S., Meltzer, H.I. and Rowlands, O.J. (2000) Stigmatisation of people with mental\\n\\nillnesses, British Journal of Psychiatry, 177: 4–7.\\n\\nDavidson, S., and Manion, I.G. (1996) Facing the challenge: mental health and illness in Canadian youth,\\n\\nPsychology, Health and Medicine, 1(1): 41–55.\\n\\nDogra, N. (2003) Cultural competence or cultural sensibility? A comparison of two ideal type models to\\n\\nteach cultural diversity to medical students, International Journal of Medicine, 5(4): 223–31.\\n\\nDogra, N. (2009) Training School Counsellors and Young People in Secondary Schools in Ibadan, Nigeria on Common Mental Health Problems with an Emphasis on Tackling Stigma, project report for the British Council. Leicester: University of Leicester.\\n\\nDogra, N., Vostanis, P., Abuateya, H. and Jewson, N. (2007) Children’s mental health services and ethnic diversity: Gujarati families’ perspectives of service provision for mental health problems, Transcultural Psychiatry 44(2): 275–91.\\n\\nEdney, D.R. (2004) Mass Media and Mental Illness: A Literature Review, www.ontario.cmha.ca/content/\\n\\nabout_mental_illness/mass_media.asp?fontaction=plus, accessed 14 Januray 2005.\\n\\nEminson, M. (2004) Personal responses to a lack of shared perception, in A.H. Crisp (ed.) Every Family in the Land: Understanding Prejudice and Discrimination against People with Mental Illness. London: Royal Society of Medicine Press.\\n\\nEsters, I.G., Cooker, P.G. and Ittenbach, R.F. (1998) Effects of a unit of instruction in mental health on rural adolescents’ conceptions of mental illness and attitudes about seeking help, Adolescence, 33(130): 469–76.\\n\\nFrancis, C., Pirkis, J., Dunt, D. and Blood, R.W. (2001) Mental Health and Illness in the Media: A Review of the\\n\\nLiterature, http://ausinet.ﬂinders.edu.au/resources/other/mhimedia.pdf, accessed 14 Januray 2005.\\n\\nGale, F. (2007) Tackling the stigma of mental health in vulnerable children and young people, in P. Vostanis (ed.) Mental Health Interventions and Services for Vulnerable Children and Young People. London: Jessica Kingsley.\\n\\nGoffman, E. (1970) Stigma: Notes on the Management of a Spoiled Identity. New York: Penguin. Gureje, O., Lasebikan, V.O., Ephraim-Oluwanuga, O., Olley, B.O. and Kola, L. (2005) Community study of knowledge of and attitude to mental illness in Nigeria, The British Journal of Psychiatry, 186: 436–41.\\n\\nHAS (Health Advisory Service) (1995) Child & Adolescent Mental Health Services. London: HAS. Haywood, P. and Bright, J.A. (1997) Stigma and mental illness: a review and critique, Journal of Mental Health,\\n\\n6(4): 345–54.\\n\\nHinshaw, S.P. (2005) The stigmatisation of mental illness in children and parents: developmental issues,\\n\\nfamily concerns and research needs, Journal of Child Psychology and Psychiatry, 46(7): 714–34.\\n\\nIllich, I. (1977) Disabling Professions. New York: MarionBoyars Publishers. Johns, S. (2002) Young people, schools and mental health services: intervention or prevention? in L. Rowling, G. Martin and L. Walker (eds) Mental Health Promotion and Young People: Concepts and Practice. Roseville, NSW: McGraw-Hill Australia.\\n\\nJorm, A.F. (2000) Mental health literacy: public knowledge and beliefs about mental disorders, British Journal\\n\\nof Psychiatry, 177: 396–401.\\n\\nJorm, A.F., Korten, A.E., Jacomb, P.A., Christenson, H., Rodgers, B. and Pllitt, P. (1997) ‘Mental health literacy’: a survey of the public’s ability to recognize mental disorders and their beliefs about the effectiveness of treatment, Medical Journal of Australia, 166: 182–6.\\n\\nKendall, R. (1988) Diagnosis and classiﬁcation, in R. Kendall and A. Zealley (eds) Companion to Psychiatric\\n\\nStudies. Edinburgh: Churchill Livingstone.\\n\\nLeighton, S. (2006) Pilot thesis: ‘What do I think? Where do I go?’ Exploring adolescents’ understanding of mental health issues and their attitudes towards seeking help for mental health problems. Unpublished doctoral assignment.\\n\\nDeﬁning mental health and mental illness\\n\\nLeighton, S. (2008) ‘What do I think? Where do I go?’ Exploring adolescents’ understanding of mental health issues and their attitudes towards seeking help for mental health problems. Unpublished doctoral thesis.\\n\\nLink, B.G. and Phelan, J.C. (2001) Conceptualising stigma, Annual Review of Sociology, 27: 363–85. Meltzer, H., Gatward, R., Goodman, R. and Ford, T. (2000) The Mental Health of Children and Adolescents in\\n\\nGreat Britain. London: The Stationery Ofﬁce.\\n\\nMental Health Foundation (1999) Bright Futures: Promoting Children and Young People’s Mental Health. London:\\n\\nMental Health Foundation.\\n\\nMoore, M. and Carr, A. (2000) Anxiety disorders, in A. Carr (ed.) (2000) What Works with Children and\\n\\nAdolescents? London: Routledge.\\n\\nNaylor, P., Cowie, H., Talamelli, L. and Dawkins, J. (2002) The Development of Adolescent Pupils’ Knowledge about and Attitudes Towards Mental Health Difﬁculties, project report to PPP Healthcare Medical Trust, www.ukobservatory.com/projects/project3.html, accessed 9 January 2005.\\n\\nPinfold, V., Toulmin, H., Thornicroft, G., Huxley, P., Farmer, P. and Graham, T. (2003) Reducing psychiatric stigma and discrimination: evaluation of educational interventions in UK secondary schools, British Journal of Psychiatry, 182: 342–6.\\n\\nPow, J. (2003) A study of adolescents in Fife (15–16 years) to establish their views, attitudes and knowledge\\n\\nof mental health issues, unpublished MSc dissertation, University of Dundee.\\n\\nRahman, A., Mubbashar, M.H., Gater, R. and Goldberg, D. (1998) Randomised trial of impact of school\\n\\nmental health programme in rural Rawalpindi, Pakistan, The Lancet, 352: 1022–5.\\n\\nRickwood, D., Deane, F.P., Wilson, C.J. and Ciarrochi, J. (2005) Young people’s help-seeking for mental health problems, Australian e-Journal for the Advancement of Mental Health, 4: supplement, www.ausinet.com/journal/vol4iss3suppl/rickwood.pdf, accessed 5 August 2007.\\n\\nRose, D., Thornicroft, G., Pinfold, V. and Kassam, A. (2007) 250 labels used to stigmatise people with mental\\n\\nhealth, BMC Health Services Research, 7: 97.\\n\\nRowling, L., Martin, G. and Walker, L. (eds) (2002) Mental Health Promotion and Young People: Concepts and\\n\\nPractice. Roseville, NSW: McGraw-Hill Australia.\\n\\nRyff, C.D. and Singer, B. (1998) The contours of positive human health, Psychological Inquiry 9(1): 1–28. Sartorius, N. (2002) Iatrogenic stigma of mental illness, British Medical Journal, 324: 1470–1. Scottish Executive (2005) See Me . . . Let’s Stop the Stigma of Mental Ill Health, www.seemescotland.org,\\n\\naccessed 25 May 2005.\\n\\nSecker, J., Armstrong, C. and Hill, M. (1999) Young people’s understanding of mental mealth, Health\\n\\nEducation Research, 14(6): 729–39.\\n\\nSessa, B. (2005a) I’ll have to lie about where I’ve been, Young Minds Magazine, 76: 34–5. Sessa, B. (2005b) Comparing adolescents’ opinions towards mental and physical illness: a stigma survey,\\n\\npersonal correspondence, 18 May 2005.\\n\\nShefﬁeld, J.K., Fiorenza, E. and Sofronoff, K. (2004) Adolescents’ willingness to seek psychological help:\\n\\npromoting and preventing factors, Journal of Youth and Adolescence, 33(6): 495–507.\\n\\nSmith, K. and Leon, L. (2001) Turned Upside Down: Developing Community-based Crisis Services for 16–25 Year\\n\\nOlds Experiencing a Mental Health Crisis, London: Mental Health Foundation.\\n\\nTaylor, C. (2001) Adolescent perceptions of mental health services and of mental health, unpublished BSc\\n\\nthesis, University of Leicester.\\n\\nTomlinson, M. (2001) A critical look at cultural diversity and infant health synergy, Australian Transcultural\\n\\nMental Health Network, winter: 3–5.\\n\\nWahl, O.F. (2002) Children’s views of mental illness: a review of the literature, Psychiatric Rehabilitation Skills,\\n\\n6(2): 134–58.\\n\\nWahl, O.F. (2003) Depictions of mental illnesses in children’s media, Journal of Mental Health, 12: 248–58. Walker, S. (2005) Culturally Competent Therapy: Working with Children and Young People. Basingstoke: Palgrave\\n\\nMacmillan.\\n\\nWeiss, M.F. (1986) Children’s attitudes towards the mentally ill: a developmental analysis, Psychological\\n\\nReports, 58: 11–20.\\n\\nWeiss, M.F. (1994) Children’s attitudes towards the mentally ill: an eight-year longitudinal follow-up,\\n\\nPsychological Reports, 74: 51–6.\\n\\nWHO (World Health Organization) (1992) International Statistical Classiﬁcation of Diseases and Related Health\\n\\nProblems, 10th revision. Geneva: WHO.\\n\\nWHO (World Health Organization) (1996) The Global Burden of Disease. Geneva: WHO.\\n\\n17\\n\\n18\\n\\nNursing in child and adolescent mental health\\n\\nWHO (World Health Organization) (2000) World Mental Health Day. Mental Health: Stop Exclusion – Dare to\\n\\nCare, http://who.int/world-health-day/en/, accessed 2 December 2005.\\n\\nWHO (World Health Organization (2001) World Mental Health Day. Mental Health: Stop Exclusion – Dare to\\n\\nCare, http://www.emro.who.int/MNH/WHD/WHD-Brochure.pdf, accessed 2 July 2009.\\n\\nWHO (World Health Organization) (2004) Promoting Mental Health: Concepts, Emerging Evidence, Practice:\\n\\nSummary Report. Geneva: WHO.\\n\\nWHO (World Health Organization) (2005a) Child and Adolescent Mental Health Policies and Plans.\\n\\nGeneva: WHO.\\n\\nWHO (World Health Organization) (2005b) WHO European Ministerial Conference on Mental Health: Facing the Challenges, Building Solutions: Stigma and Discrimination Against the Mentally Ill in Europe, http:// www.euro.who.int/document/MNH/ebrief10.pdf, accessed 12 July 2008.\\n\\nView publication stats', metadata={'source': 'mental_health_Document.pdf'})]"
      ]
     },
     "execution_count": 8,
     "metadata": {},
     "output_type": "execute_result"
    }
   ],
   "source": [
    "documents"
   ]
  },
  {
   "cell_type": "code",
   "execution_count": 9,
   "metadata": {},
   "outputs": [
    {
     "name": "stderr",
     "output_type": "stream",
     "text": [
      "C:\\Users\\Cyntexia\\AppData\\Roaming\\Python\\Python311\\site-packages\\langchain_core\\_api\\deprecation.py:119: LangChainDeprecationWarning: The class `HuggingFaceEmbeddings` was deprecated in LangChain 0.2.2 and will be removed in 0.3.0. An updated version of the class exists in the langchain-huggingface package and should be used instead. To use it run `pip install -U langchain-huggingface` and import as `from langchain_huggingface import HuggingFaceEmbeddings`.\n",
      "  warn_deprecated(\n",
      "c:\\Users\\Cyntexia\\conda\\Lib\\site-packages\\sentence_transformers\\cross_encoder\\CrossEncoder.py:11: TqdmExperimentalWarning: Using `tqdm.autonotebook.tqdm` in notebook mode. Use `tqdm.tqdm` instead to force console mode (e.g. in jupyter console)\n",
      "  from tqdm.autonotebook import tqdm, trange\n",
      "C:\\Users\\Cyntexia\\AppData\\Roaming\\Python\\Python311\\site-packages\\bitsandbytes\\cextension.py:34: UserWarning: The installed version of bitsandbytes was compiled without GPU support. 8-bit optimizers, 8-bit multiplication, and GPU quantization are unavailable.\n",
      "  warn(\"The installed version of bitsandbytes was compiled without GPU support. \"\n"
     ]
    },
    {
     "name": "stdout",
     "output_type": "stream",
     "text": [
      "'NoneType' object has no attribute 'cadam32bit_grad_fp32'\n"
     ]
    },
    {
     "name": "stderr",
     "output_type": "stream",
     "text": [
      "C:\\Users\\Cyntexia\\AppData\\Roaming\\Python\\Python311\\site-packages\\huggingface_hub\\file_download.py:1132: FutureWarning: `resume_download` is deprecated and will be removed in version 1.0.0. Downloads always resume when possible. If you want to force a new download, use `force_download=True`.\n",
      "  warnings.warn(\n"
     ]
    }
   ],
   "source": [
    "# loading the vector embedding model\n",
    "embeddings = HuggingFaceEmbeddings()"
   ]
  },
  {
   "cell_type": "code",
   "execution_count": 10,
   "metadata": {},
   "outputs": [],
   "source": [
    "knowledge_base = FAISS.from_documents(text_chunks, embeddings)"
   ]
  },
  {
   "cell_type": "code",
   "execution_count": 11,
   "metadata": {},
   "outputs": [],
   "source": [
    "# retrieval QA chain\n",
    "qa_chain = RetrievalQA.from_chain_type(\n",
    "    llm,\n",
    "    retriever=knowledge_base.as_retriever())"
   ]
  },
  {
   "cell_type": "code",
   "execution_count": 12,
   "metadata": {},
   "outputs": [
    {
     "name": "stdout",
     "output_type": "stream",
     "text": [
      "This document appears to be a collection of references and sources related to mental health, particularly in the context of children and adolescents. The references include academic articles, book chapters, and reports from organizations such as the World Health Organization (WHO). The topics covered include stigma and discrimination against people with mental illness, mental health promotion and education, help-seeking behaviors among young people, and cultural competence in therapy.\n"
     ]
    }
   ],
   "source": [
    "question = \"What is this document about?\"\n",
    "response = qa_chain.invoke({\"query\": question})\n",
    "print(response[\"result\"])"
   ]
  },
  {
   "cell_type": "code",
   "execution_count": 13,
   "metadata": {},
   "outputs": [
    {
     "name": "stdout",
     "output_type": "stream",
     "text": [
      "NAME                   \tID          \tSIZE  \tMODIFIED       \n",
      "llama3:instruct        \t365c0bd3c000\t4.7 GB\t23 minutes ago\t\n",
      "nomic-embed-text:latest\t0a109f422b47\t274 MB\t18 hours ago  \t\n",
      "gemma:7b               \ta72c7f4d0a15\t5.0 GB\t18 hours ago  \t\n",
      "mistral:latest         \t2ae6f6dd7a3d\t4.1 GB\t20 hours ago  \t\n",
      "gemma:latest           \ta72c7f4d0a15\t5.0 GB\t25 hours ago  \t\n",
      "mistral:instruct       \t2ae6f6dd7a3d\t4.1 GB\t25 hours ago  \t\n",
      "llama3:latest          \t365c0bd3c000\t4.7 GB\t26 hours ago  \t\n",
      "llama2:latest          \t78e26419b446\t3.8 GB\t7 days ago    \t\n"
     ]
    }
   ],
   "source": [
    "! ollama list\n"
   ]
  },
  {
   "cell_type": "code",
   "execution_count": 14,
   "metadata": {},
   "outputs": [
    {
     "name": "stdout",
     "output_type": "stream",
     "text": [
      "There is no mention of an \"architecture\" or a \"model\" in the provided context. The texts appear to be a collection of research articles, studies, and reports related to mental health, stigma, and discrimination, particularly among children and adolescents. Therefore, it's not possible to answer the question about the architecture discussed in the model, as no such discussion is present in the given context.\n"
     ]
    }
   ],
   "source": [
    "question = \"What is the architecture discussed in the model?\"\n",
    "response = qa_chain.invoke({\"query\": question})\n",
    "print(response[\"result\"])"
   ]
  }
 ],
 "metadata": {
  "kernelspec": {
   "display_name": "Python 3",
   "language": "python",
   "name": "python3"
  },
  "language_info": {
   "codemirror_mode": {
    "name": "ipython",
    "version": 3
   },
   "file_extension": ".py",
   "mimetype": "text/x-python",
   "name": "python",
   "nbconvert_exporter": "python",
   "pygments_lexer": "ipython3",
   "version": "3.11.7"
  }
 },
 "nbformat": 4,
 "nbformat_minor": 2
}
